{
 "cells": [
  {
   "cell_type": "code",
   "execution_count": 356,
   "metadata": {
    "collapsed": false
   },
   "outputs": [],
   "source": [
    "import numpy as np\n",
    "from scipy import optimize\n",
    "\n",
    "# training data\n",
    "train_x = np.array(([3,5],[5,1],[10,2],[6,1.5]), dtype=float)\n",
    "train_y = np.array(([75],[82],[93],[70]), dtype=float)\n",
    "\n",
    "# testing data\n",
    "test_x = np.array(([4, 5.5],[4.5, 1],[9,2.5],[6,2]), dtype=float)\n",
    "test_y = np.array(([70],[89],[85],[75]), dtype=float)"
   ]
  },
  {
   "cell_type": "code",
   "execution_count": 357,
   "metadata": {
    "collapsed": false,
    "nbpresent": {
     "id": "747fcc29-d8d7-4e5c-ab22-ebb7a42a6a42"
    }
   },
   "outputs": [],
   "source": [
    "class FNN(object):\n",
    "    \n",
    "    def __init__(self, learning_rate=0):\n",
    "        # define hyperparameters\n",
    "        self.input_layer_size = 2\n",
    "        self.hidden_layer_size = 3\n",
    "        self.output_layer_size = 1\n",
    "        \n",
    "        # define parameters\n",
    "        self.W1 = np.random.randn(self.input_layer_size, self.hidden_layer_size)\n",
    "        self.W2 = np.random.randn(self.hidden_layer_size, self.output_layer_size)\n",
    "        \n",
    "        # regularizartion parameter\n",
    "        self.learning_rate = learning_rate\n",
    "        \n",
    "    def forward(self, X):\n",
    "        # forward propagation \n",
    "        self.z2 = np.dot(X, self.W1)\n",
    "        self.a2 = self.sigmoid(self.z2)\n",
    "        self.z3 = np.dot(self.a2, self.W2)\n",
    "        prediction = self.sigmoid(self.z3)\n",
    "        return prediction\n",
    "    \n",
    "    # define activation function\n",
    "    def sigmoid(self, z):\n",
    "        return 1 / (1 + np.exp(-z))\n",
    "    \n",
    "    def sigmoid_prime(self, z):\n",
    "        return np.exp(-z) / ((1 + np.exp(-z))**2)\n",
    "    \n",
    "    # backprop\n",
    "    def cost_function(self, X, desired_output):\n",
    "        self.prediction = self.forward(X)\n",
    "        total_error = ((1/2) * sum((desired_output - self.prediction)**2)) / X.shape[0] + \\\n",
    "                      (self.learning_rate / 2) * (np.sum(self.W1**2) + np.sum(self.W2**2))\n",
    "                    \n",
    "        return total_error\n",
    "    \n",
    "    def cost_function_prime(self, X, desired_y):\n",
    "        self.prediction = self.forward(X)\n",
    "        \n",
    "        # layer 3 backpropgation error\n",
    "        l3_backprop_error   = np.multiply(-(desired_y - self.prediction), self.sigmoid_prime(self.z3))\n",
    "        cost_in_terms_of_W2 = np.dot(self.a2.T, l3_backprop_error) / X.shape[0] + (self.learning_rate * self.W2)\n",
    "                \n",
    "        # layer 2 backpropation error\n",
    "        l2_backprop_error   = np.dot(l3_backprop_error, self.W2.T) * self.sigmoid_prime(self.z2)\n",
    "        cost_in_terms_of_W1 = np.dot(X.T, l2_backprop_error) / X.shape[0] + (self.learning_rate * self.W1)\n",
    "        \n",
    "        return cost_in_terms_of_W1, cost_in_terms_of_W2\n",
    "    \n",
    "    # scale the data making sure its all the same\n",
    "    def normalize_data(self, study_hours, test_scores):\n",
    "        MAX_SCORE = 100.\n",
    "        study_hours = study_hours / np.amax(study_hours, axis=0)\n",
    "        test_scores /= MAX_SCORE\n",
    "        return study_hours, test_scores\n",
    "    \n",
    "    # helper functions to interact with other classes and methods\n",
    "    def get_params(self):\n",
    "        # joins a sequence of flattened arrays from numpy.ndarray.ravel()\n",
    "        params = np.concatenate((self.W1.ravel(), self.W2.ravel()))\n",
    "        return params\n",
    "    \n",
    "    def set_params(self, params):\n",
    "        # set W1 and W2 using single parameter vector\n",
    "        W1_start = 0\n",
    "        W1_end   = self.hidden_layer_size * self.input_layer_size\n",
    "        # reshape the W1 matrix\n",
    "        self.W1  = np.reshape(params[W1_start : W1_end], (self.input_layer_size, self.hidden_layer_size))\n",
    "        W2_end   = W1_end + (self.hidden_layer_size * self.output_layer_size)\n",
    "        # reshape the W2 matrix\n",
    "        self.W2  = np.reshape(params[W1_end : W2_end], (self.hidden_layer_size, self.output_layer_size))\n",
    "        \n",
    "    def compute_gradient(self, X, desired_y):\n",
    "        cost_in_terms_of_W1, cost_in_terms_of_W2 = self.cost_function_prime(X, desired_y)\n",
    "        \n",
    "        # joins a sequence of flattened arrays from numpy.ndarray.ravel()\n",
    "        return np.concatenate((cost_in_terms_of_W1.ravel(), cost_in_terms_of_W2.ravel()))\n",
    "        \n",
    "    # checking gradients with numerical gradient computation\n",
    "    def compute_numerical_gradient(self, X, desired_y):\n",
    "        \n",
    "        # using epsilon addition and difference method \n",
    "        initial_params     = self.get_params()\n",
    "        numerical_gradient = np.zeros(initial_params.shape)\n",
    "        perturb            = np.zeros(initial_params.shape)\n",
    "        e = 1e-4\n",
    "        \n",
    "        for i in range(len(initial_params)):\n",
    "            # set perturbation vector\n",
    "            perturb[i] = e\n",
    "            self.set_params(initial_params + perturb)\n",
    "            loss_2 = self.cost_function(X, desired_y)\n",
    "            \n",
    "            self.set_params(initial_params - perturb)\n",
    "            loss_1 = self.cost_function(X, desired_y)\n",
    "            \n",
    "            # computer numerical gradient\n",
    "            numerical_gradient[i] = (loss_2 - loss_1) / (2 * e)\n",
    "            \n",
    "            perturb[i] = 0\n",
    "        \n",
    "        self.set_params(initial_params)\n",
    "        return numerical_gradient"
   ]
  },
  {
   "cell_type": "code",
   "execution_count": 358,
   "metadata": {
    "collapsed": false
   },
   "outputs": [],
   "source": [
    "NN = FNN(learning_rate=0.0001)\n",
    "\n",
    "# normalize data\n",
    "train_x, train_y = NN.normalize_data(train_x, train_y)\n",
    "test_x, test_y = NN.normalize_data(text_x, test_y)"
   ]
  },
  {
   "cell_type": "code",
   "execution_count": 359,
   "metadata": {
    "collapsed": false
   },
   "outputs": [],
   "source": [
    "numerical_gradient = NN.compute_numerical_gradient(train_x, train_y)"
   ]
  },
  {
   "cell_type": "code",
   "execution_count": 360,
   "metadata": {
    "collapsed": false
   },
   "outputs": [],
   "source": [
    "gradient = NN.compute_gradient(train_x, train_y)"
   ]
  },
  {
   "cell_type": "code",
   "execution_count": 361,
   "metadata": {
    "collapsed": false
   },
   "outputs": [
    {
     "data": {
      "text/plain": [
       "array([ 0.00734602,  0.00918773,  0.01675902,  0.00557791,  0.0058958 ,\n",
       "        0.01273338, -0.03792651, -0.04371049, -0.01813184])"
      ]
     },
     "execution_count": 361,
     "metadata": {},
     "output_type": "execute_result"
    }
   ],
   "source": [
    "numerical_gradient"
   ]
  },
  {
   "cell_type": "code",
   "execution_count": 362,
   "metadata": {
    "collapsed": false
   },
   "outputs": [
    {
     "data": {
      "text/plain": [
       "array([ 0.00734602,  0.00918773,  0.01675902,  0.00557791,  0.0058958 ,\n",
       "        0.01273338, -0.03792651, -0.04371049, -0.01813184])"
      ]
     },
     "execution_count": 362,
     "metadata": {},
     "output_type": "execute_result"
    }
   ],
   "source": [
    "gradient"
   ]
  },
  {
   "cell_type": "code",
   "execution_count": 371,
   "metadata": {
    "collapsed": false
   },
   "outputs": [],
   "source": [
    "class Trainer(object):\n",
    "    \n",
    "    def __init__(self, Local_Ref):\n",
    "        # make local reference to neural network\n",
    "        self.Local_Ref = Local_Ref\n",
    "        \n",
    "    # cost function requries a wrapper due to ours being sophisticated\n",
    "    def cost_function_wrapper(self, params, X, desired_y):\n",
    "        self.Local_Ref.set_params(params)\n",
    "        cost = self.Local_Ref.cost_function(X, desired_y)\n",
    "        gradient = self.Local_Ref.compute_gradient(X, desired_y)\n",
    "        return cost, gradient\n",
    "    \n",
    "    # track cost function value as training progresses\n",
    "    def callback(self, params):\n",
    "        self.Local_Ref.set_params(params)\n",
    "        self.cost_list.append(self.Local_Ref.cost_function(self.X, self.desired_y))\n",
    "        \n",
    "    def train(self, train_x, train_y, test_x, test_y):\n",
    "        \n",
    "        self.train_x = train_x\n",
    "        self.train_y = train_y\n",
    "        \n",
    "        self.cost_list = []\n",
    "        self.test_cost_list = []\n",
    "        \n",
    "        initial_params = self.Local_Ref.get_params()\n",
    "        \n",
    "        options = {\"maxiter\": 200, \"disp\": True}\n",
    "        _res = optimize.minimize(self.cost_function_wrapper, initial_params, jac=True, \\\n",
    "                                 method=\"BFGS\", args=(train_x, train_y), options=options, \\\n",
    "                                 callback=self.callback)\n",
    "        \n",
    "        self.Local_Ref.set_params(_res.x)\n",
    "        self.optimization_res = _res"
   ]
  },
  {
   "cell_type": "code",
   "execution_count": 372,
   "metadata": {
    "collapsed": true
   },
   "outputs": [],
   "source": [
    "T = Trainer(NN)"
   ]
  },
  {
   "cell_type": "code",
   "execution_count": 373,
   "metadata": {
    "collapsed": false
   },
   "outputs": [
    {
     "name": "stdout",
     "output_type": "stream",
     "text": [
      "Optimization terminated successfully.\n",
      "         Current function value: 0.002619\n",
      "         Iterations: 0\n",
      "         Function evaluations: 1\n",
      "         Gradient evaluations: 1\n"
     ]
    }
   ],
   "source": [
    "T.train(train_x, train_y, test_x, test_y)"
   ]
  },
  {
   "cell_type": "code",
   "execution_count": 374,
   "metadata": {
    "collapsed": false
   },
   "outputs": [
    {
     "data": {
      "text/plain": [
       "<matplotlib.text.Text at 0x1145edc50>"
      ]
     },
     "execution_count": 374,
     "metadata": {},
     "output_type": "execute_result"
    },
    {
     "data": {
      "image/png": "[encoded data removed]",
      "text/plain": [
       "<matplotlib.figure.Figure at 0x114239518>"
      ]
     },
     "metadata": {},
     "output_type": "display_data"
    }
   ],
   "source": [
    "%matplotlib inline\n",
    "import matplotlib.pyplot as plt\n",
    "\n",
    "plt.plot(T.cost_list)\n",
    "plt.plot(T.test_cost_list)\n",
    "plt.grid(1)\n",
    "plt.ylabel(\"Cost\")\n",
    "plt.xlabel(\"Iteration\")"
   ]
  },
  {
   "cell_type": "code",
   "execution_count": 367,
   "metadata": {
    "collapsed": false
   },
   "outputs": [
    {
     "data": {
      "text/plain": [
       "(array([[ -1.48827273e-06,  -5.03254322e-06,  -4.75876654e-07],\n",
       "        [  6.70369836e-06,  -6.69375742e-07,  -1.93221210e-06]]),\n",
       " array([[  9.82850259e-06],\n",
       "        [ -8.59524830e-06],\n",
       "        [ -2.95679303e-06]]))"
      ]
     },
     "execution_count": 367,
     "metadata": {},
     "output_type": "execute_result"
    }
   ],
   "source": [
    "NN.cost_function_prime(train_x, train_y)"
   ]
  },
  {
   "cell_type": "code",
   "execution_count": 368,
   "metadata": {
    "collapsed": false
   },
   "outputs": [
    {
     "name": "stdout",
     "output_type": "stream",
     "text": [
      "74/100 marks\n",
      "78/100 marks\n",
      "85/100 marks\n",
      "80/100 marks\n"
     ]
    }
   ],
   "source": [
    "predictions = NN.forward(train_x)\n",
    "for i in range(len(predictions)):\n",
    "    print(int(predictions[i] * 100), \"/100 marks\", sep=\"\")"
   ]
  },
  {
   "cell_type": "code",
   "execution_count": 369,
   "metadata": {
    "collapsed": false
   },
   "outputs": [
    {
     "data": {
      "text/plain": [
       "array([[ 0.75],\n",
       "       [ 0.82],\n",
       "       [ 0.93],\n",
       "       [ 0.7 ]])"
      ]
     },
     "execution_count": 369,
     "metadata": {},
     "output_type": "execute_result"
    }
   ],
   "source": [
    "train_y"
   ]
  },
  {
   "cell_type": "code",
   "execution_count": 370,
   "metadata": {
    "collapsed": false
   },
   "outputs": [],
   "source": [
    "# accounting for the noise (ambiguity) in the data set\n",
    "# this is done using regularization"
   ]
  },
  {
   "cell_type": "markdown",
   "metadata": {},
   "source": [
    "$\\eta = \\sum \\frac{1}{2} (y - \\hat{y})^{2}$"
   ]
  },
  {
   "cell_type": "code",
   "execution_count": null,
   "metadata": {
    "collapsed": true
   },
   "outputs": [],
   "source": []
  }
 ],
 "metadata": {
  "anaconda-cloud": {},
  "kernelspec": {
   "display_name": "Python [default]",
   "language": "python",
   "name": "python3"
  },
  "language_info": {
   "codemirror_mode": {
    "name": "ipython",
    "version": 3
   },
   "file_extension": ".py",
   "mimetype": "text/x-python",
   "name": "python",
   "nbconvert_exporter": "python",
   "pygments_lexer": "ipython3",
   "version": "3.5.2"
  }
 },
 "nbformat": 4,
 "nbformat_minor": 1
}

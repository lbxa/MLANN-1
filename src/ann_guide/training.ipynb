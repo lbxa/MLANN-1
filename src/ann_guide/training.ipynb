{
 "cells": [
  {
   "cell_type": "markdown",
   "metadata": {},
   "source": [
    "<center><h1>Applications of Machine Learning with Artificial Neural Networks and Supervised Regression</h1></center>\n",
    "<br>\n",
    "<center><i>Lucas Barbosa</i></center><hr>\n",
    "<h3>Training Time</h3>\n",
    "<p>Neural networks are like lawyers, useless unless taught how to do good hence the training algorithms have to be pretty good to round up a decent combination of weights. The most optimal way as mentioned before is using a cost function, that cost function again being</p><br>\n",
    "\n",
    "<center>$ \\eta = \\sum \\frac{1}{2} (y - \\hat{y})^{2} $</center><br>\n",
    "\n",
    "<p>The one half coefficient is there to omit the power when differentiation the cost function later for simplicity. The squared also exploits the <strong>convex</strong> nature of the cost function to avoid having to use Stochastic Gradient Descent as opposed to Batch Gradient Descent to train the ANN.</p>"
   ]
  },
  {
   "cell_type": "markdown",
   "metadata": {},
   "source": [
    "<table>\n",
    "    <thead>\n",
    "        <tr>\n",
    "            <td><center><strong>Stochastic Gradient Descent</strong><br>(SGD)</center></td>\n",
    "            <td><center><strong>Batch Gradient Descent</strong><br>(BGD)</center></td>\n",
    "        </tr>\n",
    "    </thead>\n",
    "    <tbody>\n",
    "        <tr>\n",
    "            <td>Error is computed randomly through each individual input and its corresponding output’s error.</td>\n",
    "            <td>Error is computed through a summation of the total error of all the inputs and corresponding outputs.</td>\n",
    "        </tr>\n",
    "    </tbody>\n",
    "</table>"
   ]
  },
  {
   "cell_type": "code",
   "execution_count": null,
   "metadata": {
    "collapsed": true
   },
   "outputs": [],
   "source": []
  }
 ],
 "metadata": {
  "anaconda-cloud": {},
  "kernelspec": {
   "display_name": "Python [default]",
   "language": "python",
   "name": "python3"
  },
  "language_info": {
   "codemirror_mode": {
    "name": "ipython",
    "version": 3
   },
   "file_extension": ".py",
   "mimetype": "text/x-python",
   "name": "python",
   "nbconvert_exporter": "python",
   "pygments_lexer": "ipython3",
   "version": "3.5.2"
  }
 },
 "nbformat": 4,
 "nbformat_minor": 1
}

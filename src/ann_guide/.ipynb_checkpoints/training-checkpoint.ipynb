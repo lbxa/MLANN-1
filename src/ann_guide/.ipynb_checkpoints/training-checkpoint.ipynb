{
 "cells": [
  {
   "cell_type": "markdown",
   "metadata": {},
   "source": [
    "<center><h1>Applications of Machine Learning with Artificial Neural Networks and Supervised Regression</h1></center>\n",
    "<br>\n",
    "<center><i>Lucas Barbosa</i></center><hr>\n",
    "<h3>Training Time</h3>\n",
    "<p>Neural networks are like lawyers, useless unless taught how to do good hence the training algorithms have to be pretty good to round up a decent combination of weights. The most optimal way as mentioned before is using a cost function, that cost function again being</p><br>\n",
    "\n",
    "<center>$ \\eta = \\sum \\frac{1}{2} (y - \\hat{y})^{2} $</center><br>\n",
    "\n",
    "<p>The one half coefficient is there to omit the power when differentiation the cost function later for simplicity. The squared also exploits the <strong>convex</strong> nature of the cost function to avoid having to use Stochastic Gradient Descent as opposed to Batch Gradient Descent to train the ANN.</p>"
   ]
  },
  {
   "cell_type": "markdown",
   "metadata": {},
   "source": [
    "<table>\n",
    "    <thead>\n",
    "        <tr>\n",
    "            <td><center><strong>Stochastic Gradient Descent</strong><br>(SGD)</center></td>\n",
    "            <td><center><strong>Batch Gradient Descent</strong><br>(BGD)</center></td>\n",
    "        </tr>\n",
    "    </thead>\n",
    "    <tbody>\n",
    "        <tr>\n",
    "            <td>Error is computed randomly through each individual input and its corresponding output’s error.</td>\n",
    "            <td>Error is computed through a summation of the total error of all the inputs and corresponding outputs.</td>\n",
    "        </tr>\n",
    "    </tbody>\n",
    "</table>"
   ]
  },
  {
   "cell_type": "markdown",
   "metadata": {},
   "source": [
    "<p>The advantage to using Gradient Descent is that it doesn’t matter how many dimensions our data has, the <strong>curse of dimensionality</strong> doesn’t effect the overall algorithm in anyway since it knows which was is right, which way convergence lies. The only thing that actually needs to be done is for an algorithm to be written which computes the gradient of the cost function in respects to both the weights W1 and W2 being used. The way to compute all these numbers is to start with the initial error which is in our output, then work backward from there hence why applying Gradient Descent to ANN’s is referred to <strong>back propagation</strong>.</p>\n",
    "\n",
    "<p>Since computing the gradient of the cost function involves more than one term (both weights) partial derivatives must be taken in respect to each weight <strong>individually</strong> then applied individually too. Since we’re working backwards here the first term in respect to the cost will be W2. The gradient descent algorithm will be derived using the <strong>chain rule</strong> in calculus, which makes it much simples to connect all the dots.</p><br>\n",
    "\n",
    "<center>$ \\frac{\\partial \\eta}{\\partial W^{(2)}} = \\sum \\frac{\\partial \\eta}{\\partial \\hat{y}} \\frac{\\partial \\hat{y}}{\\partial W^{(2)}} $</center><br>\n",
    "\n",
    "<center>$ \\frac{\\partial \\eta}{\\partial W^{(2)}} = \\sum \\frac{\\partial \\eta}{\\partial \\hat{y}} \\frac{\\partial \\hat{y}}{\\partial z^{(3)}} \\frac{\\partial z^{(3)}}{\\partial W^{(2)}} $</center><br>\n",
    "\n",
    "<p>where:</p>\n",
    "\n",
    "<center>$ \\frac{\\partial \\eta}{\\partial \\hat{y}} = -(y - \\hat{y}) $</center><br>\n",
    "\n",
    "<p>As yhat is the result of the activation function on z3, its rate of change will equate to its derivative.</p><br>\n",
    "\n",
    "<center>$ \\hat{y} = \\varphi(z^{(3)}) $</center><br>\n",
    "\n",
    "<center>$ \\frac{\\partial \\hat{y}}{\\partial z^{(3)}} = {\\varphi}'(z^{(3)}) $</center><br>\n",
    "\n",
    "<p>This is where z3 was a product of a2 and W2.</p>\n",
    "\n",
    "<center>$ z^{(3)} = a^{(2)} W^{(2)} $</center><br>\n",
    "\n",
    "<center>$ \\frac{\\partial z^{(3)}}{\\partial W^{(2)}} = a^{(2)} $</center><br>\n",
    "\n",
    "<p>For the sake of simplity, concider:</p>\n",
    "\n",
    "<center>$ \\delta^{(3)} = -(y - \\hat{y}) \\ {\\varphi}'(z^{(3)})  $</center><br>\n",
    "\n",
    "<p>This putting all of the parts of the puzzle together and transposing matrix a2 to make sure all of its entries are mutiplied by delta3 to yield the total back propagation error for the second set of weights.</p><br>\n",
    "\n",
    "<center>$ \\frac{\\partial \\eta}{\\partial W^{(2)}} = \\sum -(y - \\hat{y}) \\ \\varphi(z^{(3)}) \\ (a^{(2)})^{T} $</center><br>\n",
    "\n",
    "<center>$ \\frac{\\partial \\eta}{\\partial W^{(2)}} = \\sum \\delta^{(3)} \\ (a^{(2)})^{T} $</center>"
   ]
  },
  {
   "cell_type": "markdown",
   "metadata": {},
   "source": [
    "<p>The same partial derivative needs to be computed for the first set of weights W1. The same approach with the chain rule will be taken, however there will be some different aspects to it.</p><br>\n",
    "\n",
    "<center>$ \\frac{\\partial \\eta}{\\partial W^{(1)}} = \\sum \\frac{\\partial \\eta}{\\partial \\hat{y}} \\frac{\\partial \\hat{y}}{\\partial W^{(1)}} $</center><br>\n",
    "\n",
    "<center>$ \\frac{\\partial \\eta}{\\partial W^{(1)}} = \\sum \\frac{\\partial \\eta}{\\partial \\hat{y}} \\frac{\\partial \\hat{y}}{\\partial z^{(3)}} \\frac{\\partial z^{(3)}}{\\partial W^{(1)}} $</center><br>\n",
    "\n",
    "<center>$ \\frac{\\partial \\eta}{\\partial W^{(1)}} = \\sum \\frac{\\partial \\eta}{\\partial \\hat{y}} \\frac{\\partial \\hat{y}}{\\partial z^{(3)}} \\frac{\\partial a^{(2)}}{\\partial W^{(1)}} \\frac{\\partial z^{(3)}}{\\partial a^{(2)}} $</center><br>\n",
    "\n",
    "<p>where:</p>\n",
    "\n",
    "<center>$ \\delta^{(3)} = \\frac{\\partial \\eta}{\\partial \\hat{y}} \\frac{\\partial \\hat{y}}{\\partial z^{(3)}} $</center><br>\n",
    "\n",
    "<p>Making sure things stay simple and kept in as few terms as possible:</p><br>\n",
    "\n",
    "<center>$ \\frac{\\partial \\eta}{\\partial W^{(1)}} = \\sum \\delta^{(3)} \\frac{\\partial a^{(2)}}{\\partial W^{(1)}} \\frac{\\partial z^{(3)}}{\\partial a^{(2)}} $</center>\n",
    "\n",
    "<p>where also:</p>\n",
    "\n",
    "<center>$ z^{(3)} = a^{(2)} W^{(2)}  $</center><br>\n",
    "\n",
    "<center>$ \\frac{\\partial z^{(3)}}{\\partial a^{(2)}} = W^{(2)} $</center><br>\n",
    "\n",
    "<p>For the last piece of the puzzle, In order to make sense of the rest, the activity of the second layer must be used to connect to the first set of weights W1.</p><br>\n",
    "\n",
    "<center>$ \\frac{\\partial a^{(2)}}{\\partial W^{(1)}} = \\frac{\\partial a^{(2)}}{\\partial z^{(2)}} \\frac{\\partial z^{(2)}}{\\partial W^{(1)}} $</center><br>\n",
    "\n",
    "<p>Similiar to the sigmoid prime of z3 above, the same differentiating happens with a2 and z2.</p><br>\n",
    "\n",
    "<center>$ a^{(2)} = \\varphi(z^{(2)}) $</center><br>\n",
    "\n",
    "<center>$ \\frac{\\partial a^{(2)}}{\\partial z^{(2)}} = {\\varphi}'(z^{(2)})  $</center><br>\n",
    "\n",
    "<p>The final term has arrived all the way back to the beginning of the network, the X input matrix.</p><br>\n",
    "\n",
    "<center>$ z^{(2)} = X W^{(1)} $</center><br>\n",
    "\n",
    "<center>$ \\frac{\\partial z^{(2)}}{\\partial W^{(1)}} = X $</center>"
   ]
  },
  {
   "cell_type": "markdown",
   "metadata": {},
   "source": [
    "<p>To bring it all together now in terms of W1:</p>\n",
    "\n",
    "<center>$ \\frac{\\partial \\eta}{\\partial W^{(1)}} = \\sum \\delta^{(3)} \\frac{\\partial a^{(2)}}{\\partial z^{(2)}} \\frac{\\partial z^{(2)}}{\\partial W^{(1)}} (W^{(2)})^{T} $</center><br>\n",
    "\n",
    "<center>$ \\frac{\\partial \\eta}{\\partial W^{(1)}} = \\sum \\delta^{(3)} {\\varphi}'(z^{(2)})  \\frac{\\partial z^{(2)}}{\\partial W^{(1)}} (W^{(2)})^{T} $</center><br>\n",
    "\n",
    "<p>Both the X and W2 matrices required to be <strong>transposed</strong> in order for their respective entries to be successfully multiplied by every value of delta3 and delta2, the back propagating error of each layer of weights.</p><br>\n",
    "\n",
    "<center>$ \\frac{\\partial \\eta}{\\partial W^{(1)}} = \\sum \\delta^{(3)} {\\varphi}'(z^{(2)}) X^T (W^{(2)})^{T} $</center><br>\n",
    "\n",
    "<p>where:</p><br>\n",
    "\n",
    "<center>$ \\delta^{(2)} =  \\delta^{(3)} {\\varphi}'(z^{(2)}) (W^{(2)})^{T} $</center><br>\n",
    "\n",
    "<center>$ \\frac{\\partial \\eta}{\\partial W^{(1)}} = \\sum \\delta^{(2)} X^T  $</center><br>\n",
    "\n",
    "<p>Therefore the algorithms which will compute the respective gradients of the weights W1 and W2 ultimately evaluate to:</p><br>\n",
    "\n",
    "<center>$ \\frac{\\partial \\eta}{\\partial W^{(1)}} = \\sum \\delta^{(2)} X^T $</center><br>\n",
    "\n",
    "<center>$ \\frac{\\partial \\eta}{\\partial W^{(2)}} = \\sum \\delta^{(3)} \\ (a^{(2)})^{T} $</center>\n",
    "\n",
    "<p>Now that the algorithms are clear and ready to be put in use its time to code them up. These Gradient Descent computations will be implemented into the previous version of the Neural Network class. A new feature added to this class is the regularization parameter used to make sure that the data isn't <strong>overfitted</strong> and still models the real world.</p>"
   ]
  },
  {
   "cell_type": "code",
   "execution_count": 1,
   "metadata": {
    "collapsed": false
   },
   "outputs": [],
   "source": [
    "class Neural_Network(object):\n",
    "    def __init__(self, learning_rate=0):\n",
    "        # define hyperparameters\n",
    "        self.input_layer_size = 2\n",
    "        self.hidden_layer_size = 3\n",
    "        self.output_layer_size = 1\n",
    "        \n",
    "        # define parameters\n",
    "        self.W1 = np.random.randn(self.input_layer_size, self.hidden_layer_size)\n",
    "        self.W2 = np.random.randn(self.hidden_layer_size, self.output_layer_size)\n",
    "        \n",
    "        # regularization parameter\n",
    "        self.learning_rate = learning_rate\n",
    "        \n",
    "    # forward propagation\n",
    "    def forward(self, X):\n",
    "        self.z2 = np.dot(X, self.W1)\n",
    "        self.a2 = self.sigmoid(self.z2)\n",
    "        self.z3 = np.dot(self.a2, self.W2)\n",
    "        prediction = self.sigmoid(self.z3)\n",
    "        return prediction\n",
    "    \n",
    "    # activation functions\n",
    "    def sigmoid(self, z):\n",
    "        return 1 / (1 + np.exp(-z))\n",
    "    \n",
    "    # derivative of sigmoid function\n",
    "    def sigmoid_prime(self, z):\n",
    "        return np.exp(-z) / ((1 + np.exp(-z))**2)\n",
    "    \n",
    "    # efficient backprop\n",
    "    def cost_function(self, X, desired_output):\n",
    "        self.prediction = self.forward(X)\n",
    "        total_error = ((1/2) * sum((desired_output - self.prediction)**2)) / X.shape[0] + \\\n",
    "                      (self.learning_rate / 2) * (np.sum(self.W1**2) + np.sum(self.W2**2))\n",
    "        return total_error\n",
    "            \n",
    "    def cost_function_prime(self, X, desired_y):\n",
    "        self.prediction = self.forward(X)\n",
    "        \n",
    "        # layer 3 backprop error\n",
    "        l3_backprop_error   = np.multiply(-(desired_y - self.prediction), \\\n",
    "                              self.sigmoid_prime(self.z3))\n",
    "        # divide by X.shape[0] to account for the scale of the data \n",
    "        cost_in_terms_of_W2 = np.dot(self.a2.T, l3_backprop_error) / X.shape[0] + \\\n",
    "                              (self.learning_rate * self.W2)\n",
    "            \n",
    "        # layer 2 backprop error\n",
    "        l2_backprop_error   = np.dot(l3_backprop_error, self.W2.T) * \\\n",
    "                              self.sigmoid_prime(self.z2)\n",
    "        # divide by X.shape[0] to account for the scale of the data\n",
    "        cost_in_terms_of_W1 = np.dot(X.T, l2_backprop_error) / X.shape[0] + \\\n",
    "                              (self.learning_rate * self.W1)\n",
    "                \n",
    "        return cost_in_terms_of_W1, cost_in_terms_of_W2\n",
    "    \n",
    "    # altering and setting the parameters during training\n",
    "    def get_params(self):\n",
    "        # get W1 & W2 rolled into a vector\n",
    "        params = np.concatenate((self.W1.ravel(), self.W2.ravel()))\n",
    "        return params\n",
    "    \n",
    "    def set_params(self, params):\n",
    "        # set W1 & W2 using single parameter vector\n",
    "        W1_start = 0\n",
    "        W1_end   = self.hidden_layer_size * self.input_layer_size\n",
    "        # reshape the W1 weights \n",
    "        self.W1  = np.reshape(params[W1_start : W1_end], \\\n",
    "                   (self.input_layer_size, self.hidden_layer_size))\n",
    "        W2_end   = W1_end + self.hidden_layer_size * self.output_layer_size\n",
    "        # reshape the W2 weights\n",
    "        self.W2  = np.reshape(params[W1_end : W2_end], \\\n",
    "                   (self.hidden_layer_size, self.output_layer_size))\n",
    "        \n",
    "    def compute_gradient(self, X, desired_y):\n",
    "        cost_in_terms_of_W1, cost_in_terms_of_W2 = self.cost_function_prime(X, desired_y)\n",
    "        return np.concatenate((cost_in_terms_of_W1.ravel(), cost_in_terms_of_W2.ravel()))"
   ]
  },
  {
   "cell_type": "markdown",
   "metadata": {},
   "source": [
    "<p>Before any further progress in terms of training the network is done one more thing is crucial. It’s not all the time that the ANN’s algorithms actually work and converge to nice set of weight parameters. In fact some of the time there could be an underlying issue which involves the incorrect calculation towards a gradient. The problem with this type of error is that it won’t stop the network from still propagating, so there’s no way to know if something’s wrong…unless there’s a way of making sure that the gradients being outputted are at least slightly accurate. This is achieved through <strong>Numerical Gradient Checking</strong>.</p>"
   ]
  },
  {
   "cell_type": "code",
   "execution_count": 2,
   "metadata": {
    "collapsed": true
   },
   "outputs": [],
   "source": [
    "class Helper(object):\n",
    "    def __init__(self, Local_Ref):\n",
    "        # set a local reference to NN class\n",
    "        self.Local_Ref = Local_Ref\n",
    "       \n",
    "    # normalize data to account for different units\n",
    "    def scale_data(self, hours, test_score):\n",
    "        MAX_SCORE = 100.\n",
    "        hours      /= np.amax(hours, axis=0)\n",
    "        test_score /= MAX_SCORE\n",
    "        return hours, test_score \n",
    "    \n",
    "    # checking gradients with numerical gradient computation avoiding logic errors\n",
    "    def compute_numerical_gradient(self, X, desired_y):\n",
    "        initial_params     = self.Local_Ref.get_params()\n",
    "        numerical_gradient = np.zeros(initial_params.shape)\n",
    "        perturb            = np.zeros(initial_params.shape)\n",
    "        \n",
    "        # epsilon value needs to be small enough act as a 'zero'\n",
    "        epsilon = 1e-4   \n",
    "        \n",
    "        for i in range(len(initial_params)):\n",
    "            # set perturbation vector to alter the original state of the initial params\n",
    "            perturb[i] = epsilon\n",
    "            self.Local_Ref.set_params(initial_params + perturb)\n",
    "            loss_2 = self.Local_Ref.cost_function(X, desired_y)\n",
    "            \n",
    "            self.Local_Ref.set_params(initial_params - perturb)\n",
    "            loss_1 = self.Local_Ref.cost_function(X, desired_y)\n",
    "            \n",
    "            # computer numerical gradient\n",
    "            numerical_gradient[i] = (loss_2 - loss_1) / (2 * epsilon)\n",
    "            \n",
    "            perturb[i] = 0\n",
    "        \n",
    "        self.Local_Ref.set_params(initial_params)\n",
    "        return numerical_gradient"
   ]
  },
  {
   "cell_type": "code",
   "execution_count": 3,
   "metadata": {
    "collapsed": false
   },
   "outputs": [],
   "source": [
    "import numpy as np\n",
    "from scipy import optimize\n",
    "\n",
    "# training data\n",
    "train_x = np.array(([3,5],[5,1],[10,2],[6,1.5]), dtype=float)\n",
    "train_y = np.array(([75],[82],[93],[70]), dtype=float)\n",
    "\n",
    "# testing data\n",
    "test_x = np.array(([4, 5.5],[4.5, 1],[9,2.5],[6,2]), dtype=float)\n",
    "test_y = np.array(([70],[89],[85],[75]), dtype=float)\n",
    "\n",
    "NN = Neural_Network(learning_rate=0.0001)\n",
    "Aux = Helper(NN)\n",
    "\n",
    "# normalize data\n",
    "train_x, train_y = Aux.scale_data(train_x, train_y)\n",
    "test_x, test_y   = Aux.scale_data(test_x, test_y)\n",
    "\n",
    "# check to see gradients have been correctly calculated\n",
    "numerical_gradient = Aux.compute_numerical_gradient(train_x, train_y)\n",
    "computed_gradient  = NN.compute_gradient(train_x, train_y)"
   ]
  },
  {
   "cell_type": "code",
   "execution_count": 4,
   "metadata": {
    "collapsed": false
   },
   "outputs": [
    {
     "data": {
      "text/plain": [
       "array([ 0.00236028,  0.00088974, -0.00020404,  0.00248351,  0.00092107,\n",
       "       -0.00025142,  0.00720993,  0.00430147,  0.00402797])"
      ]
     },
     "execution_count": 4,
     "metadata": {},
     "output_type": "execute_result"
    }
   ],
   "source": [
    "numerical_gradient"
   ]
  },
  {
   "cell_type": "code",
   "execution_count": 5,
   "metadata": {
    "collapsed": false
   },
   "outputs": [
    {
     "data": {
      "text/plain": [
       "array([ 0.00236028,  0.00088974, -0.00020404,  0.00248351,  0.00092107,\n",
       "       -0.00025142,  0.00720993,  0.00430147,  0.00402797])"
      ]
     },
     "execution_count": 5,
     "metadata": {},
     "output_type": "execute_result"
    }
   ],
   "source": [
    "computed_gradient"
   ]
  },
  {
   "cell_type": "markdown",
   "metadata": {},
   "source": [
    "<p>The numerical gradient values seem to be very much the same to the computed gradients values which indicate that our ANN is actually working. Now that the gradients are actually being outputed its time to write up a Trainer class for this ANN. The trainer class will also incorporate the <strong>Quasi-Newton BFGS Mathematical Optimization</strong> algorithm to change it up a little.</p>"
   ]
  },
  {
   "cell_type": "code",
   "execution_count": 6,
   "metadata": {
    "collapsed": false
   },
   "outputs": [],
   "source": [
    "class Trainer(object):\n",
    "    def __init__(self, Local_Ref):\n",
    "        # make local reference to NN\n",
    "        self.Local_Ref = Local_Ref\n",
    "        \n",
    "    def cost_function_wrapper(self, params, X, desired_y):\n",
    "        self.Local_Ref.set_params(params)\n",
    "        total_cost = self.Local_Ref.cost_function(X, desired_y)\n",
    "        gradient   = self.Local_Ref.compute_gradient(X, desired_y)\n",
    "        return total_cost, gradient\n",
    "    \n",
    "    # track cost function value as training progresses\n",
    "    def callback(self, params):\n",
    "        self.Local_Ref.set_params(params)\n",
    "        self.cost_list.append(self.Local_Ref.cost_function(self.train_x, self.train_y))\n",
    "        self.test_cost_list.append(self.Local_Ref.cost_function(self.test_x, self.test_y))\n",
    "    \n",
    "    def train(self, train_x, train_y, test_x, test_y):\n",
    "        \n",
    "        # internal variable for callback function\n",
    "        self.train_x = train_x\n",
    "        self.train_y = train_y\n",
    "        \n",
    "        self.test_x = test_x\n",
    "        self.test_y = test_y\n",
    "        \n",
    "        # empty lists to store costs\n",
    "        self.cost_list = []\n",
    "        self.test_cost_list = []\n",
    "        \n",
    "        initial_params =  self.Local_Ref.get_params()\n",
    "        \n",
    "        options = {\"maxiter\": 200, \"disp\": True}\n",
    "        _result = optimize.minimize(self.cost_function_wrapper, initial_params, jac=True, \\\n",
    "                                    method=\"BFGS\", args=(train_x, train_y), options=options, \\\n",
    "                                    callback=self.callback)\n",
    "        \n",
    "        # once the training is complete finally set the new values in\n",
    "        self.Local_Ref.set_params(_result.x)\n",
    "        self.optimization_results = _result "
   ]
  },
  {
   "cell_type": "code",
   "execution_count": 7,
   "metadata": {
    "collapsed": false
   },
   "outputs": [
    {
     "name": "stdout",
     "output_type": "stream",
     "text": [
      "Optimization terminated successfully.\n",
      "         Current function value: 0.002618\n",
      "         Iterations: 85\n",
      "         Function evaluations: 91\n",
      "         Gradient evaluations: 91\n"
     ]
    }
   ],
   "source": [
    "T = Trainer(NN)\n",
    "T.train(train_x, train_y, test_x, test_y)"
   ]
  },
  {
   "cell_type": "code",
   "execution_count": 8,
   "metadata": {
    "collapsed": false,
    "scrolled": true
   },
   "outputs": [
    {
     "data": {
      "text/plain": [
       "<matplotlib.text.Text at 0x10e28f5c0>"
      ]
     },
     "execution_count": 8,
     "metadata": {},
     "output_type": "execute_result"
    },
    {
     "data": {
      "image/png": "[encoded data removed]",
      "text/plain": [
       "<matplotlib.figure.Figure at 0x10e1b0828>"
      ]
     },
     "metadata": {},
     "output_type": "display_data"
    }
   ],
   "source": [
    "%matplotlib inline\n",
    "import matplotlib.pyplot as plt\n",
    "\n",
    "# graphing the cost in respect to interations\n",
    "plt.plot(T.cost_list)\n",
    "plt.plot(T.test_cost_list)\n",
    "plt.grid(1)\n",
    "plt.xlabel(\"Iterations\")\n",
    "plt.ylabel(\"Cost\")"
   ]
  },
  {
   "cell_type": "code",
   "execution_count": 9,
   "metadata": {
    "collapsed": false
   },
   "outputs": [
    {
     "data": {
      "text/plain": [
       "array([[ 0.75],\n",
       "       [ 0.82],\n",
       "       [ 0.93],\n",
       "       [ 0.7 ]])"
      ]
     },
     "execution_count": 9,
     "metadata": {},
     "output_type": "execute_result"
    }
   ],
   "source": [
    "train_y"
   ]
  },
  {
   "cell_type": "code",
   "execution_count": 10,
   "metadata": {
    "collapsed": false
   },
   "outputs": [
    {
     "data": {
      "text/plain": [
       "array([[ 0.74741042],\n",
       "       [ 0.78130396],\n",
       "       [ 0.85711074],\n",
       "       [ 0.80038587]])"
      ]
     },
     "execution_count": 10,
     "metadata": {},
     "output_type": "execute_result"
    }
   ],
   "source": [
    "NN.forward(train_x)"
   ]
  },
  {
   "cell_type": "markdown",
   "metadata": {},
   "source": [
    "<p>Thanks to the early <strong>regularisation hyper parameter</strong> there is no <i>overfitting</i> of data and the training and testing data still model the real world. This just about concludes  the training process of the ANN and in fact the life span of this project.</p>"
   ]
  }
 ],
 "metadata": {
  "anaconda-cloud": {},
  "kernelspec": {
   "display_name": "Python [default]",
   "language": "python",
   "name": "python3"
  },
  "language_info": {
   "codemirror_mode": {
    "name": "ipython",
    "version": 3
   },
   "file_extension": ".py",
   "mimetype": "text/x-python",
   "name": "python",
   "nbconvert_exporter": "python",
   "pygments_lexer": "ipython3",
   "version": "3.5.2"
  }
 },
 "nbformat": 4,
 "nbformat_minor": 1
}
